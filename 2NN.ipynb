{
 "cells": [
  {
   "cell_type": "markdown",
   "metadata": {},
   "source": [
    "### Abstract\n",
    "\n",
    "An implementation of 2-layered neural networks, [an execise](http://cs231n.stanford.edu/slides/2017/cs231n_2017_lecture4.pdf) from the lecture of [Convolutional Neural Network for Visual Recognition](http://cs231n.stanford.edu/syllabus.html)."
   ]
  },
  {
   "cell_type": "code",
   "execution_count": 4,
   "metadata": {
    "collapsed": false
   },
   "outputs": [],
   "source": [
    "import numpy as np\n",
    "from numpy.random import randn\n",
    "\n",
    "# an input of 64 elements of 1000 dimentions, to a corresponding output of 64 elements with 10 dimensions.\n",
    "#   with the dimention of hidden layer (H) as 100\n",
    "N, D_in, H, D_out = 64, 1000, 100, 10\n",
    "\n",
    "def converge(x, y, w1, w2):\n",
    "    for t in range(2000):\n",
    "        # sigmoid activation function\n",
    "        h = 1 / (1 + np.exp(-x.dot(w1)))\n",
    "        y_pred = h.dot(w2)\n",
    "        # L2 loss function\n",
    "        loss = np.square(y_pred - y).sum()\n",
    "        print(t, loss)\n",
    "    \n",
    "        # backpropagate gradient calculation\n",
    "        grad_y_pred = 2.0 * (y_pred - y)\n",
    "        grad_w2 = h.T.dot(grad_y_pred)\n",
    "    \n",
    "        grad_h = grad_y_pred.dot(w2.T)\n",
    "        grad_w1 = x.T.dot(grad_h * h * (1-h))\n",
    "    \n",
    "        w1 -= 1e-4 * grad_w1\n",
    "        w2 -= 1e-4 * grad_w2\n"
   ]
  },
  {
   "cell_type": "code",
   "execution_count": 9,
   "metadata": {
    "collapsed": false
   },
   "outputs": [],
   "source": [
    "x, y = randn(N, D_in), randn(N, D_out)\n",
    "w1, w2 = randn(D_in, H), randn(H, D_out)\n",
    "\n",
    "#print(y)\n",
    "\n",
    "#converge(x, y, w1, w2)"
   ]
  }
 ],
 "metadata": {
  "anaconda-cloud": {},
  "kernelspec": {
   "display_name": "Python [default]",
   "language": "python",
   "name": "python3"
  },
  "language_info": {
   "codemirror_mode": {
    "name": "ipython",
    "version": 3
   },
   "file_extension": ".py",
   "mimetype": "text/x-python",
   "name": "python",
   "nbconvert_exporter": "python",
   "pygments_lexer": "ipython3",
   "version": "3.5.2"
  }
 },
 "nbformat": 4,
 "nbformat_minor": 1
}
