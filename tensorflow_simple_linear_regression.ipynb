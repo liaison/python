{
 "cells": [
  {
   "cell_type": "markdown",
   "metadata": {},
   "source": [
    "### Abstract\n",
    "\n",
    "This is an example to show to use use the basic API of TensorFlow, to construct a linear regression model. \n",
    "\n",
    "This notebook is an exercise adapted from [the Medium.com blog](https://medium.com/@saxenarohan97/intro-to-tensorflow-solving-a-simple-regression-problem-e87b42fd4845).\n",
    "\n",
    "Note that recent version of TensorFlow does have more advanced API such like LinearClassifier that provides the scikit-learn alike machine learning API."
   ]
  },
  {
   "cell_type": "code",
   "execution_count": 84,
   "metadata": {
    "collapsed": true
   },
   "outputs": [],
   "source": [
    "import tensorflow as tf\n",
    "import numpy as np\n",
    "from sklearn.datasets import load_boston\n",
    "from sklearn.preprocessing import scale\n",
    "from matplotlib import pyplot as plt\n",
    "\n",
    "%matplotlib inline\n",
    "from matplotlib.pylab import rcParams\n",
    "rcParams['figure.figsize'] = 15,6"
   ]
  },
  {
   "cell_type": "markdown",
   "metadata": {},
   "source": [
    "Split the data into training, validation and test sets."
   ]
  },
  {
   "cell_type": "code",
   "execution_count": 114,
   "metadata": {
    "collapsed": false
   },
   "outputs": [
    {
     "name": "stdout",
     "output_type": "stream",
     "text": [
      "total data shape: (506, 13)\n",
      "features shape: (506, 12) targe shape: (506, 1)\n",
      "training dataset: 300\n",
      "feature example: [[-0.64113113  0.10080399 -1.03067021 -0.31448545  0.217757    0.21942717\n",
      "   0.08260981 -0.09559716 -2.15826599 -0.23254428 -1.00268807  0.42054571]]\n",
      "mean of feature 0: 2.36847578587e-17\n",
      "validation dataset: 100\n",
      "test dataset: 106\n"
     ]
    }
   ],
   "source": [
    "# Retrieve the data\n",
    "bunch = load_boston()\n",
    "print('total data shape:', bunch.data.shape)\n",
    "\n",
    "total_features = bunch.data[:, range(12)]\n",
    "total_prices = bunch.data[:, [12]]\n",
    "\n",
    "print('features shape:', total_features.shape, 'targe shape:', total_prices.shape)\n",
    "\n",
    "# new in 0.18 version\n",
    "# total_features, total_prices = load_boston(True)\n",
    "\n",
    "# Keep 300 samples for training\n",
    "train_features = scale(total_features[:300])\n",
    "train_prices = total_prices[:300]\n",
    "print('training dataset:', len(train_features))\n",
    "print('feature example:', train_features[0:1])\n",
    "print('mean of feature 0:', np.asarray(train_features[:, 0]).mean())\n",
    "\n",
    "# Keep 100 samples for validation\n",
    "valid_features = scale(total_features[300:400])\n",
    "valid_prices = total_prices[300:400]\n",
    "print('validation dataset:', len(valid_features))\n",
    "\n",
    "# Keep remaining samples as test set\n",
    "test_features = scale(total_features[400:])\n",
    "test_prices = total_prices[400:]\n",
    "print('test dataset:', len(test_features))"
   ]
  },
  {
   "cell_type": "markdown",
   "metadata": {},
   "source": [
    "#### Linear Regression Model "
   ]
  },
  {
   "cell_type": "code",
   "execution_count": 42,
   "metadata": {
    "collapsed": true
   },
   "outputs": [],
   "source": [
    "w = tf.Variable(tf.truncated_normal([12, 1], mean=0.0, stddev=1.0, dtype=tf.float64))\n",
    "b = tf.Variable(tf.zeros(1, dtype = tf.float64))"
   ]
  },
  {
   "cell_type": "code",
   "execution_count": 43,
   "metadata": {
    "collapsed": true
   },
   "outputs": [],
   "source": [
    "def calc(x, y):\n",
    "    '''\n",
    "        linear regression model that return (prediction, L2_error)\n",
    "    '''\n",
    "    # Returns predictions and error\n",
    "    predictions = tf.add(b, tf.matmul(x, w))\n",
    "    error = tf.reduce_mean(tf.square(y - predictions))\n",
    "    return [ predictions, error ]"
   ]
  },
  {
   "cell_type": "code",
   "execution_count": 140,
   "metadata": {
    "collapsed": false
   },
   "outputs": [],
   "source": [
    "y, cost = calc(train_features, train_prices)\n",
    "\n",
    "# augment the model with the regularisation\n",
    "L1_regu_cost = tf.add(cost, tf.reduce_mean(tf.abs(w)))\n",
    "L2_regu_cost = tf.add(cost, tf.reduce_mean(tf.square(w)))"
   ]
  },
  {
   "cell_type": "code",
   "execution_count": 151,
   "metadata": {
    "collapsed": false
   },
   "outputs": [],
   "source": [
    "def train(cost, learning_rate=0.025, epochs=300):\n",
    "    '''\n",
    "        run the cost computation graph with gradient descent optimizer.\n",
    "    '''\n",
    "    errors = [[], []] \n",
    "\n",
    "    init = tf.global_variables_initializer()\n",
    "\n",
    "    optimizer = tf.train.GradientDescentOptimizer(learning_rate).minimize(cost)\n",
    "\n",
    "    config = tf.ConfigProto()\n",
    "    config.gpu_options.allow_growth=True\n",
    "    sess = tf.Session(config=config)\n",
    "\n",
    "    with sess:\n",
    "        sess.run(init)\n",
    "\n",
    "        for i in range(epochs):\n",
    "\n",
    "            sess.run(optimizer)\n",
    "\n",
    "            errors[0].append(i+1)\n",
    "            errors[1].append(sess.run(cost))\n",
    "\n",
    "        # Get the parameters of the linear regression model.\n",
    "        print('weights:\\n', sess.run(w))\n",
    "        print('bias:', sess.run(b))\n",
    "    \n",
    "        valid_cost = calc(valid_features, valid_prices)[1]\n",
    "        print('Validation error =', sess.run(valid_cost), '\\n')\n",
    "\n",
    "        test_cost = calc(test_features, test_prices)[1]\n",
    "        print('Test error =', sess.run(test_cost), '\\n')\n",
    "    \n",
    "    return errors"
   ]
  },
  {
   "cell_type": "code",
   "execution_count": 174,
   "metadata": {
    "collapsed": false
   },
   "outputs": [
    {
     "name": "stdout",
     "output_type": "stream",
     "text": [
      "weights:\n",
      " [[ 0.01976278]\n",
      " [ 0.2216641 ]\n",
      " [ 0.33897141]\n",
      " [ 0.14712622]\n",
      " [ 1.49651714]\n",
      " [-3.30264682]\n",
      " [ 2.19215736]\n",
      " [ 0.75213107]\n",
      " [-0.2088241 ]\n",
      " [-0.35450866]\n",
      " [ 0.65472403]\n",
      " [ 0.07399816]]\n",
      "bias: [ 10.63383511]\n",
      "Validation error = 39.140050724 \n",
      "\n",
      "Test error = 76.3269062042 \n",
      "\n",
      "weights:\n",
      " [[ 0.40265458]\n",
      " [ 0.38716099]\n",
      " [ 0.40915654]\n",
      " [ 0.11570143]\n",
      " [ 0.7819646 ]\n",
      " [-3.46135321]\n",
      " [ 2.58540755]\n",
      " [ 0.64041114]\n",
      " [-0.13593196]\n",
      " [-0.43936893]\n",
      " [ 0.54024542]\n",
      " [ 0.12436986]]\n",
      "bias: [ 10.70416667]\n",
      "Validation error = 37.305764913 \n",
      "\n",
      "Test error = 75.9908063646 \n",
      "\n"
     ]
    }
   ],
   "source": [
    "# with L1 regularisation, the testing error is slightly improved, i.e. 75 vs. 76\n",
    "# similarly with L1 regularisation, the L2 regularisation improves the testing error to 75 as well.\n",
    "epochs = 500\n",
    "\n",
    "errors_lr_005 = train(cost, learning_rate=0.005, epochs=epochs)\n",
    "\n",
    "errors_lr_025 = train(cost, learning_rate=0.025, epochs=epochs)"
   ]
  },
  {
   "cell_type": "code",
   "execution_count": 173,
   "metadata": {
    "collapsed": false
   },
   "outputs": [
    {
     "data": {
      "image/png": "[encoded data removed]",
      "text/plain": [
       "<matplotlib.figure.Figure at 0x7f866020fd68>"
      ]
     },
     "metadata": {},
     "output_type": "display_data"
    }
   ],
   "source": [
    "ax = plt.subplot(111)\n",
    "\n",
    "plt.plot(errors_lr_005[1], color='green', label='learning rate 0.005')\n",
    "plt.plot(errors_lr_025[1], color='red', label='learning rate 0.025')\n",
    "\n",
    "#ax = plt.plot(errors[0], errors[1], 'r--')\n",
    "\n",
    "plt.axis([0, epochs, 0, 200])\n",
    "\n",
    "plt.title('Evolution of L2 errors along each epoch')\n",
    "plt.xlabel('epoch')\n",
    "plt.ylabel('L2 error')\n",
    "_ = plt.legend(loc='best')\n",
    "\n",
    "plt.show()"
   ]
  },
  {
   "cell_type": "markdown",
   "metadata": {},
   "source": [
    "The **higher** the learning rate, the **faster** that the model converges. But if the learning rate is too large, it could also prevent the model from convergence."
   ]
  }
 ],
 "metadata": {
  "anaconda-cloud": {},
  "kernelspec": {
   "display_name": "Python [default]",
   "language": "python",
   "name": "python3"
  },
  "language_info": {
   "codemirror_mode": {
    "name": "ipython",
    "version": 3
   },
   "file_extension": ".py",
   "mimetype": "text/x-python",
   "name": "python",
   "nbconvert_exporter": "python",
   "pygments_lexer": "ipython3",
   "version": "3.5.2"
  }
 },
 "nbformat": 4,
 "nbformat_minor": 1
}
