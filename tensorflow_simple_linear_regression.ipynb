{
 "cells": [
  {
   "cell_type": "markdown",
   "metadata": {},
   "source": [
    "### Abstract\n",
    "\n",
    "This is an example to show to use use the basic API of TensorFlow, to construct a linear regression model. \n",
    "\n",
    "This notebook is an exercise written from [the Medium.com blog](https://medium.com/@saxenarohan97/intro-to-tensorflow-solving-a-simple-regression-problem-e87b42fd4845).\n",
    "\n",
    "Note that recent version of TensorFlow does have more advanced API such like LinearClassifier that provides the scikit-learn alike machine learning API."
   ]
  },
  {
   "cell_type": "code",
   "execution_count": 19,
   "metadata": {
    "collapsed": true
   },
   "outputs": [],
   "source": [
    "import tensorflow as tf\n",
    "import numpy as np\n",
    "from sklearn.datasets import load_boston\n",
    "from sklearn.preprocessing import scale\n",
    "from matplotlib import pyplot as plt"
   ]
  },
  {
   "cell_type": "markdown",
   "metadata": {},
   "source": [
    "Split the data into training, validation and test sets."
   ]
  },
  {
   "cell_type": "code",
   "execution_count": 41,
   "metadata": {
    "collapsed": false
   },
   "outputs": [
    {
     "name": "stdout",
     "output_type": "stream",
     "text": [
      "total data shape: (506, 13)\n",
      "features shape: (506, 12) targe shape: (506, 1)\n",
      "training dataset: 300\n",
      "validation dataset: 100\n",
      "test dataset: 106\n"
     ]
    }
   ],
   "source": [
    "# Retrieve the data\n",
    "bunch = load_boston()\n",
    "print('total data shape:', bunch.data.shape)\n",
    "\n",
    "total_features = bunch.data[:, range(12)]\n",
    "total_prices = bunch.data[:, [12]]\n",
    "\n",
    "print('features shape:', total_features.shape, 'targe shape:', total_prices.shape)\n",
    "\n",
    "# new in 0.18 version\n",
    "# total_features, total_prices = load_boston(True)\n",
    "\n",
    "# Keep 300 samples for training\n",
    "train_features = scale(total_features[:300])\n",
    "train_prices = total_prices[:300]\n",
    "print('training dataset:', len(train_features))\n",
    "\n",
    "# Keep 100 samples for validation\n",
    "valid_features = scale(total_features[300:400])\n",
    "valid_prices = total_prices[300:400]\n",
    "print('validation dataset:', len(valid_features))\n",
    "\n",
    "# Keep remaining samples as test set\n",
    "test_features = scale(total_features[400:])\n",
    "test_prices = total_prices[400:]\n",
    "print('test dataset:', len(test_features))"
   ]
  },
  {
   "cell_type": "markdown",
   "metadata": {},
   "source": [
    "#### Linear Regression Model "
   ]
  },
  {
   "cell_type": "code",
   "execution_count": 42,
   "metadata": {
    "collapsed": true
   },
   "outputs": [],
   "source": [
    "w = tf.Variable(tf.truncated_normal([12, 1], mean=0.0, stddev=1.0, dtype=tf.float64))\n",
    "b = tf.Variable(tf.zeros(1, dtype = tf.float64))"
   ]
  },
  {
   "cell_type": "code",
   "execution_count": 43,
   "metadata": {
    "collapsed": true
   },
   "outputs": [],
   "source": [
    "def calc(x, y):\n",
    "    '''\n",
    "        linear regression model that return (prediction, L2_error)\n",
    "    '''\n",
    "    # Returns predictions and error\n",
    "    predictions = tf.add(b, tf.matmul(x, w))\n",
    "    error = tf.reduce_mean(tf.square(y - predictions))\n",
    "    return [ predictions, error ]"
   ]
  },
  {
   "cell_type": "code",
   "execution_count": 47,
   "metadata": {
    "collapsed": false
   },
   "outputs": [],
   "source": [
    "y, cost = calc(train_features, train_prices)"
   ]
  },
  {
   "cell_type": "code",
   "execution_count": 80,
   "metadata": {
    "collapsed": false
   },
   "outputs": [
    {
     "name": "stdout",
     "output_type": "stream",
     "text": [
      "epoch: 0 L2 error: 149.484231159\n",
      "epoch: 10 L2 error: 122.310021968\n",
      "epoch: 20 L2 error: 101.429020246\n",
      "epoch: 30 L2 error: 84.9450138025\n",
      "epoch: 40 L2 error: 71.7366872109\n",
      "epoch: 50 L2 error: 61.0643938404\n",
      "epoch: 60 L2 error: 52.3985250857\n",
      "epoch: 70 L2 error: 45.3392956161\n",
      "epoch: 80 L2 error: 39.5754353948\n",
      "epoch: 90 L2 error: 34.860339332\n",
      "Validation error = 73.1253300716 \n",
      "\n"
     ]
    }
   ],
   "source": [
    "# Feel free to tweak these 2 values:\n",
    "learning_rate = 0.005\n",
    "epochs = 100\n",
    "errors = [[], []] \n",
    "\n",
    "init = tf.global_variables_initializer()\n",
    "optimizer = tf.train.GradientDescentOptimizer(learning_rate).minimize(cost)\n",
    "\n",
    "config = tf.ConfigProto()\n",
    "config.gpu_options.allow_growth=True\n",
    "sess = tf.Session(config=config)\n",
    "\n",
    "\n",
    "with sess:\n",
    "    sess.run(init)\n",
    "\n",
    "    for i in list(range(epochs)):\n",
    "\n",
    "        sess.run(optimizer)\n",
    "\n",
    "        errors[0].append(i+1)\n",
    "        errors[1].append(sess.run(cost))\n",
    "\n",
    "        if i % 10 == 0:\n",
    "            print('epoch:', i, 'L2 error:', sess.run(cost))\n",
    "\n",
    "    valid_cost = calc(valid_features, valid_prices)[1]\n",
    "\n",
    "    print('Validation error =', sess.run(valid_cost), '\\n')\n",
    "\n",
    "    test_cost = calc(test_features, test_prices)[1]\n",
    "\n",
    "    # print('Test error =', sess.run(test_cost), '\\n')"
   ]
  },
  {
   "cell_type": "code",
   "execution_count": 81,
   "metadata": {
    "collapsed": false
   },
   "outputs": [
    {
     "data": {
      "image/png": "[encoded data removed]",
      "text/plain": [
       "<matplotlib.figure.Figure at 0x7f8698606f98>"
      ]
     },
     "metadata": {},
     "output_type": "display_data"
    }
   ],
   "source": [
    "ax = plt.plot(errors[0], errors[1], 'r--')\n",
    "\n",
    "plt.axis([0, epochs, 50, 200])\n",
    "plt.xlabel('epoch')\n",
    "plt.ylabel('error')\n",
    "\n",
    "plt.show()"
   ]
  }
 ],
 "metadata": {
  "anaconda-cloud": {},
  "kernelspec": {
   "display_name": "Python [default]",
   "language": "python",
   "name": "python3"
  },
  "language_info": {
   "codemirror_mode": {
    "name": "ipython",
    "version": 3
   },
   "file_extension": ".py",
   "mimetype": "text/x-python",
   "name": "python",
   "nbconvert_exporter": "python",
   "pygments_lexer": "ipython3",
   "version": "3.5.2"
  }
 },
 "nbformat": 4,
 "nbformat_minor": 1
}
