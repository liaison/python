{
 "cells": [
  {
   "cell_type": "markdown",
   "metadata": {},
   "source": [
    "#### "
   ]
  },
  {
   "cell_type": "code",
   "execution_count": 5,
   "metadata": {
    "collapsed": false
   },
   "outputs": [
    {
     "name": "stdout",
     "output_type": "stream",
     "text": [
      "[2.718281828459045, 7.38905609893065, 20.085536923187668, 54.598150033144236, 2.718281828459045, 7.38905609893065, 20.085536923187668]\n",
      "114.98389973429897\n",
      "[0.024, 0.064, 0.175, 0.475, 0.024, 0.064, 0.175]\n"
     ]
    }
   ],
   "source": [
    "import math\n",
    "\n",
    "z = [1.0, 2.0, 3.0, 4.0, 1.0, 2.0, 3.0]\n",
    "z_exp = [math.exp(i) for i in z]\n",
    "\n",
    "print(z_exp)\n",
    "\n",
    "sum_z_exp = sum(z_exp)\n",
    "\n",
    "print(sum_z_exp)\n",
    "\n",
    "# the softmax is NOT linear to the input,\n",
    "# which favors the maximum value and penalizes/supresses the others\n",
    "softmax = [round(i / sum_z_exp, 3) for i in z_exp]\n",
    "\n",
    "print(softmax)"
   ]
  },
  {
   "cell_type": "markdown",
   "metadata": {},
   "source": [
    "#### Vectorized Calculation"
   ]
  },
  {
   "cell_type": "code",
   "execution_count": 9,
   "metadata": {
    "collapsed": false
   },
   "outputs": [
    {
     "name": "stdout",
     "output_type": "stream",
     "text": [
      "[ 1.  2.  3.  4.  1.  2.  3.]\n",
      "[  2.71828183   7.3890561   20.08553692  54.59815003   2.71828183\n",
      "   7.3890561   20.08553692]\n",
      "[ 0.02364054  0.06426166  0.1746813   0.474833    0.02364054  0.06426166\n",
      "  0.1746813 ]\n"
     ]
    }
   ],
   "source": [
    "import numpy as np\n",
    "\n",
    "z_np = np.array(z)\n",
    "print(z_np)\n",
    "\n",
    "z_exp_np = np.exp(z_np)\n",
    "print(z_exp_np)\n",
    "\n",
    "sum_z_exp_np = np.sum(z_exp_np)\n",
    "\n",
    "softmax_np = z_exp_np / sum_z_exp_np\n",
    "\n",
    "print(softmax_np)"
   ]
  }
 ],
 "metadata": {
  "anaconda-cloud": {},
  "kernelspec": {
   "display_name": "Python [default]",
   "language": "python",
   "name": "python3"
  },
  "language_info": {
   "codemirror_mode": {
    "name": "ipython",
    "version": 3
   },
   "file_extension": ".py",
   "mimetype": "text/x-python",
   "name": "python",
   "nbconvert_exporter": "python",
   "pygments_lexer": "ipython3",
   "version": "3.5.2"
  }
 },
 "nbformat": 4,
 "nbformat_minor": 1
}
