{
 "cells": [
  {
   "cell_type": "markdown",
   "metadata": {},
   "source": [
    "### Abstract\n",
    "\n",
    "This notebook is intended to practise some advanced features in Python 3. "
   ]
  },
  {
   "cell_type": "markdown",
   "metadata": {},
   "source": [
    "### Context Manager\n"
   ]
  },
  {
   "cell_type": "code",
   "execution_count": 19,
   "metadata": {},
   "outputs": [],
   "source": [
    "class MyContext(object):\n",
    "\n",
    "    def __init__(self):\n",
    "        self._mc = \"my context\"\n",
    "    \n",
    "    def __do(self):\n",
    "        pass\n",
    "    \n",
    "    ####\n",
    "    def __enter__(self):\n",
    "        print(\"enter my context\")\n",
    "        return self._mc\n",
    "    \n",
    "    def __exit__(self, exectype, exception, traceback):\n",
    "        if (traceback == None):  # no traceback means no exception\n",
    "            print('No exception')\n",
    "        else:\n",
    "            print(exception)\n",
    "        \n",
    "        print('exit my context')\n",
    "        "
   ]
  },
  {
   "cell_type": "code",
   "execution_count": 23,
   "metadata": {},
   "outputs": [
    {
     "name": "stdout",
     "output_type": "stream",
     "text": [
      "enter my context\n",
      "within the context\n",
      "my context\n",
      "No exception\n",
      "exit my context\n"
     ]
    }
   ],
   "source": [
    "cxt = MyContext()\n",
    "\n",
    "with cxt as mycontext:\n",
    "    print(\"within the context\")\n",
    "    #raise Exception('some exception')\n",
    "\n",
    "    print(mycontext)\n"
   ]
  },
  {
   "cell_type": "code",
   "execution_count": 25,
   "metadata": {},
   "outputs": [
    {
     "name": "stdout",
     "output_type": "stream",
     "text": [
      "['', '/mnt/sdb/anaconda3/envs/pytorch/lib/python36.zip', '/mnt/sdb/anaconda3/envs/pytorch/lib/python3.6', '/mnt/sdb/anaconda3/envs/pytorch/lib/python3.6/lib-dynload', '/mnt/sdb/anaconda3/envs/pytorch/lib/python3.6/site-packages', '/mnt/sdb/anaconda3/envs/pytorch/lib/python3.6/site-packages/torchvision-0.1.9-py3.6.egg', '/mnt/sdb/anaconda3/envs/pytorch/lib/python3.6/site-packages/IPython/extensions', '/remote/users/lguo/.ipython']\n"
     ]
    }
   ],
   "source": [
    "import sys\n",
    "print(sys.path)"
   ]
  },
  {
   "cell_type": "markdown",
   "metadata": {},
   "source": [
    "### Iterator "
   ]
  },
  {
   "cell_type": "code",
   "execution_count": 35,
   "metadata": {},
   "outputs": [
    {
     "name": "stdout",
     "output_type": "stream",
     "text": [
      "1\n",
      "1\n",
      "2\n",
      "3\n",
      "[1, 1, 2, 3, 5, 8, 13, 21, 34, 55]\n"
     ]
    }
   ],
   "source": [
    "class Fibonnaci:\n",
    "    def __init__(self, n = None):\n",
    "        self._n = n\n",
    "        elements = [1, 1]\n",
    "        \n",
    "        if (n == None):\n",
    "            n = 2\n",
    "\n",
    "        self._elements = elements\n",
    "\n",
    "\n",
    "    def __iter__(self):\n",
    "        #return iter(self._elements)\n",
    "        return Suite(self._elements, self._n)\n",
    "    \n",
    "\n",
    "class Suite():\n",
    "    def __init__(self, elements, n):\n",
    "        self._elements = elements\n",
    "        self._n = n\n",
    "        self._next_index = 0\n",
    "\n",
    "    \n",
    "    def __next__(self):\n",
    "        if (self._next_index >= self._n):\n",
    "            raise StopIteration\n",
    "        \n",
    "        if (self._next_index >= len(self._elements) - 1):\n",
    "            self._elements.append(self._elements[-1] + self._elements[-2])\n",
    "        curr = self._elements[self._next_index] \n",
    "        self._next_index += 1\n",
    "        return curr\n",
    "\n",
    "\n",
    "n = 2\n",
    "f = Fibonnaci(4)\n",
    "\n",
    "for i in f:\n",
    "    print(i)\n",
    "    \n",
    "print(list(Fibonnaci(10)))"
   ]
  }
 ],
 "metadata": {
  "kernelspec": {
   "display_name": "Python 3",
   "language": "python",
   "name": "python3"
  },
  "language_info": {
   "codemirror_mode": {
    "name": "ipython",
    "version": 3
   },
   "file_extension": ".py",
   "mimetype": "text/x-python",
   "name": "python",
   "nbconvert_exporter": "python",
   "pygments_lexer": "ipython3",
   "version": "3.6.2"
  }
 },
 "nbformat": 4,
 "nbformat_minor": 2
}
