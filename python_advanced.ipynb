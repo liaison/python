{
 "cells": [
  {
   "cell_type": "markdown",
   "metadata": {},
   "source": [
    "### Abstract\n",
    "\n",
    "This notebook is intended to practise some advanced features in Python 3. "
   ]
  },
  {
   "cell_type": "markdown",
   "metadata": {},
   "source": [
    "### Context Manager\n"
   ]
  },
  {
   "cell_type": "code",
   "execution_count": 19,
   "metadata": {},
   "outputs": [],
   "source": [
    "class MyContext(object):\n",
    "\n",
    "    def __init__(self):\n",
    "        self._mc = \"my context\"\n",
    "    \n",
    "    def __do(self):\n",
    "        pass\n",
    "    \n",
    "    ####\n",
    "    def __enter__(self):\n",
    "        print(\"enter my context\")\n",
    "        return self._mc\n",
    "    \n",
    "    def __exit__(self, exectype, exception, traceback):\n",
    "        if (traceback == None):  # no traceback means no exception\n",
    "            print('No exception')\n",
    "        else:\n",
    "            print(exception)\n",
    "        \n",
    "        print('exit my context')\n",
    "        "
   ]
  },
  {
   "cell_type": "code",
   "execution_count": 23,
   "metadata": {},
   "outputs": [
    {
     "name": "stdout",
     "output_type": "stream",
     "text": [
      "enter my context\n",
      "within the context\n",
      "my context\n",
      "No exception\n",
      "exit my context\n"
     ]
    }
   ],
   "source": [
    "cxt = MyContext()\n",
    "\n",
    "with cxt as mycontext:\n",
    "    print(\"within the context\")\n",
    "    #raise Exception('some exception')\n",
    "\n",
    "    print(mycontext)\n"
   ]
  },
  {
   "cell_type": "code",
   "execution_count": 25,
   "metadata": {},
   "outputs": [
    {
     "name": "stdout",
     "output_type": "stream",
     "text": [
      "['', '/mnt/sdb/anaconda3/envs/pytorch/lib/python36.zip', '/mnt/sdb/anaconda3/envs/pytorch/lib/python3.6', '/mnt/sdb/anaconda3/envs/pytorch/lib/python3.6/lib-dynload', '/mnt/sdb/anaconda3/envs/pytorch/lib/python3.6/site-packages', '/mnt/sdb/anaconda3/envs/pytorch/lib/python3.6/site-packages/torchvision-0.1.9-py3.6.egg', '/mnt/sdb/anaconda3/envs/pytorch/lib/python3.6/site-packages/IPython/extensions', '/remote/users/lguo/.ipython']\n"
     ]
    }
   ],
   "source": [
    "import sys\n",
    "print(sys.path)"
   ]
  },
  {
   "cell_type": "markdown",
   "metadata": {},
   "source": [
    "### Iterator "
   ]
  },
  {
   "cell_type": "code",
   "execution_count": 37,
   "metadata": {},
   "outputs": [
    {
     "name": "stdout",
     "output_type": "stream",
     "text": [
      "1\n",
      "1\n",
      "2\n",
      "3\n",
      "[1, 1, 2, 3, 5, 8, 13, 21, 34, 55]\n"
     ]
    }
   ],
   "source": [
    "class Fibonacci:\n",
    "    def __init__(self, n = None):\n",
    "        self._n = n\n",
    "        elements = [1, 1]\n",
    "        \n",
    "        if (n == None):\n",
    "            n = 2\n",
    "\n",
    "        self._elements = elements\n",
    "\n",
    "\n",
    "    def __iter__(self):\n",
    "        #return iter(self._elements)\n",
    "        return Suite(self._elements, self._n)\n",
    "    \n",
    "\n",
    "class Suite():\n",
    "    \"\"\"\n",
    "        It is better to separate the iteration states from the sequence class itself.\n",
    "    \"\"\"\n",
    "    def __init__(self, elements, n):\n",
    "        self._elements = elements\n",
    "        self._n = n\n",
    "        self._next_index = 0\n",
    "\n",
    "    \n",
    "    def __next__(self):\n",
    "        if (self._next_index >= self._n):\n",
    "            raise StopIteration\n",
    "        \n",
    "        if (self._next_index >= len(self._elements) - 1):\n",
    "            self._elements.append(self._elements[-1] + self._elements[-2])\n",
    "        curr = self._elements[self._next_index] \n",
    "        self._next_index += 1\n",
    "        return curr\n",
    "\n",
    "\n",
    "n = 2\n",
    "f = Fibonacci(4)\n",
    "\n",
    "for i in f:\n",
    "    print(i)\n",
    "    \n",
    "print(list(Fibonacci(10)))"
   ]
  },
  {
   "cell_type": "markdown",
   "metadata": {},
   "source": [
    "### Generator\n"
   ]
  },
  {
   "cell_type": "code",
   "execution_count": 148,
   "metadata": {},
   "outputs": [],
   "source": [
    "def fibonacci_gen(n):\n",
    "    \"\"\"\n",
    "     A generator function\n",
    "    \"\"\"\n",
    "    elem_1 = None\n",
    "    elem_2 = None\n",
    "    count = 0\n",
    "    \n",
    "    while(count < n):\n",
    "        \n",
    "        if (elem_1 is None or elem_2 is None):\n",
    "            out = 1\n",
    "        else:\n",
    "            out = elem_1 + elem_2\n",
    "    \n",
    "        # function would be paused and resumed from here, at each next() step\n",
    "        yield out\n",
    "    \n",
    "        count += 1\n",
    "        elem_1 = elem_2\n",
    "        elem_2 = out"
   ]
  },
  {
   "cell_type": "code",
   "execution_count": 157,
   "metadata": {},
   "outputs": [
    {
     "name": "stdout",
     "output_type": "stream",
     "text": [
      "<class 'generator'>\n",
      "1\n"
     ]
    }
   ],
   "source": [
    "fgen = fibonacci_gen(3)\n",
    "print(type(fgen))\n",
    "print(next(fgen))"
   ]
  },
  {
   "cell_type": "code",
   "execution_count": 64,
   "metadata": {},
   "outputs": [
    {
     "data": {
      "text/plain": [
       "<generator object <genexpr> at 0x7f71d047b728>"
      ]
     },
     "execution_count": 64,
     "metadata": {},
     "output_type": "execute_result"
    }
   ],
   "source": [
    "f = (x * 2 for x in range(10))\n",
    "\n",
    "f"
   ]
  },
  {
   "cell_type": "code",
   "execution_count": 155,
   "metadata": {},
   "outputs": [
    {
     "name": "stdout",
     "output_type": "stream",
     "text": [
      "1\n",
      "1\n",
      "2\n",
      "3\n",
      "5\n",
      "8\n",
      "13\n"
     ]
    }
   ],
   "source": [
    "from itertools import islice\n",
    "\n",
    "for i in islice(fibonacci_gen(7), 7):\n",
    "    print(i)"
   ]
  },
  {
   "cell_type": "markdown",
   "metadata": {},
   "source": [
    "### Decorator\n"
   ]
  },
  {
   "cell_type": "code",
   "execution_count": 147,
   "metadata": {
    "collapsed": true
   },
   "outputs": [],
   "source": [
    "#global_cache = {}\n",
    "\n",
    "def cached(func):\n",
    "    \"\"\"\n",
    "        A decorator function to cache the results of a function call, \n",
    "          and use the result for the later call.\n",
    "    \"\"\"\n",
    "    cache = {}  # a closure that is associated with the internal function\n",
    "    \n",
    "    def wrapper(*args, **kwargs):\n",
    "        #args_list = [arg for arg in args]\n",
    "        #print('args', str(args), 'kwargs', str(kwargs))\n",
    "        \n",
    "        # concatenate the normal arguments and named arguments\n",
    "        cache_key = args + tuple(kwargs)\n",
    "        \n",
    "        if (cache_key not in cache):\n",
    "            print('cache miss')\n",
    "            cache[cache_key] = func(*args, **kwargs)\n",
    "        \n",
    "        return cache[cache_key]\n",
    "    \n",
    "    return wrapper\n",
    "\n",
    "\n",
    "class cache_with_class():\n",
    "    def __init__(self, func):\n",
    "        self._cache = {}\n",
    "        self._func = func\n",
    "\n",
    "    # overload the '()' operator\n",
    "    def __call__(self, *args, **kwargs):\n",
    "        cache_key = args + tuple(kwargs)\n",
    "        \n",
    "        if (cache_key not in self._cache):\n",
    "            print('cache miss')\n",
    "            self._cache[cache_key] = self._func(*args, **kwargs)\n",
    "        \n",
    "        return self._cache[cache_key]\n"
   ]
  },
  {
   "cell_type": "code",
   "execution_count": 132,
   "metadata": {},
   "outputs": [],
   "source": [
    "@cached\n",
    "def add(a, b):\n",
    "    return a + b\n",
    "\n",
    "def increment(x):\n",
    "    return x + 1"
   ]
  },
  {
   "cell_type": "code",
   "execution_count": 129,
   "metadata": {},
   "outputs": [
    {
     "name": "stdout",
     "output_type": "stream",
     "text": [
      "cache miss\n",
      "first call: 3\n",
      "second call: 3\n"
     ]
    }
   ],
   "source": [
    "print('first call:', add(1, 2))\n",
    "print('second call:', add(1, 2))"
   ]
  },
  {
   "cell_type": "code",
   "execution_count": 140,
   "metadata": {},
   "outputs": [
    {
     "name": "stdout",
     "output_type": "stream",
     "text": [
      "cache miss\n",
      "first call: 4\n",
      "second call: 4\n"
     ]
    }
   ],
   "source": [
    "# this is equivalent to add the @cached decorator to the increment() function\n",
    "cached_increment = cached(increment)\n",
    "\n",
    "print('first call:', cached_increment(3))\n",
    "print('second call:', cached_increment(3))"
   ]
  },
  {
   "cell_type": "code",
   "execution_count": 145,
   "metadata": {},
   "outputs": [
    {
     "name": "stdout",
     "output_type": "stream",
     "text": [
      "cache miss\n"
     ]
    },
    {
     "data": {
      "text/plain": [
       "4"
      ]
     },
     "execution_count": 145,
     "metadata": {},
     "output_type": "execute_result"
    }
   ],
   "source": [
    "cached_increment = cache_with_class(increment)\n",
    "\n",
    "cached_increment(3)"
   ]
  },
  {
   "cell_type": "code",
   "execution_count": 109,
   "metadata": {},
   "outputs": [
    {
     "data": {
      "text/plain": [
       "True"
      ]
     },
     "execution_count": 109,
     "metadata": {},
     "output_type": "execute_result"
    }
   ],
   "source": [
    "class A:\n",
    "    @staticmethod\n",
    "    def add(a, b):\n",
    "        return a + b\n",
    "\n",
    "a = A()\n",
    "a.add(1, 2) == A.add(1, 2)"
   ]
  }
 ],
 "metadata": {
  "kernelspec": {
   "display_name": "Python 3",
   "language": "python",
   "name": "python3"
  },
  "language_info": {
   "codemirror_mode": {
    "name": "ipython",
    "version": 3
   },
   "file_extension": ".py",
   "mimetype": "text/x-python",
   "name": "python",
   "nbconvert_exporter": "python",
   "pygments_lexer": "ipython3",
   "version": "3.6.2"
  }
 },
 "nbformat": 4,
 "nbformat_minor": 2
}
