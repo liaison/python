{
 "cells": [
  {
   "cell_type": "markdown",
   "metadata": {},
   "source": [
    "### Abstract\n",
    "\n",
    "A tiny utility to copy a batch of files via SCP.\n"
   ]
  },
  {
   "cell_type": "code",
   "execution_count": 34,
   "metadata": {},
   "outputs": [],
   "source": [
    "import sys\n",
    "import glob\n",
    "import subprocess\n",
    "\n",
    "def batch_scp(source, target, match_str_list):\n",
    "    \n",
    "    source_file_list = glob.glob(source)\n",
    "    \n",
    "    for file in source_file_list:\n",
    "        \n",
    "        if (any(word in file for word in match_str_list)):\n",
    "        \n",
    "            command = ['scp', file, target]\n",
    "            print(\" \".join(command))\n",
    "            subprocess.call(command)\n",
    "\n",
    "\n",
    "if __name__ == \"__main__\":\n",
    "    \n",
    "    source = sys.argv[1]\n",
    "    target = sys.argv[2]\n",
    "\n",
    "    match_str_list = ['DLH', 'AFR', 'MAS']\n",
    "    \n",
    "    batch_scp(source, target, match_str_list)"
   ]
  },
  {
   "cell_type": "code",
   "execution_count": 33,
   "metadata": {},
   "outputs": [],
   "source": [
    "match_str_list = ['shampoo']\n",
    "\n",
    "#batch_scp('./*', 'username@hostname:/tmp/', match_str_list)"
   ]
  }
 ],
 "metadata": {
  "kernelspec": {
   "display_name": "Python 3",
   "language": "python",
   "name": "python3"
  },
  "language_info": {
   "codemirror_mode": {
    "name": "ipython",
    "version": 3
   },
   "file_extension": ".py",
   "mimetype": "text/x-python",
   "name": "python",
   "nbconvert_exporter": "python",
   "pygments_lexer": "ipython3",
   "version": "3.6.2"
  }
 },
 "nbformat": 4,
 "nbformat_minor": 2
}
