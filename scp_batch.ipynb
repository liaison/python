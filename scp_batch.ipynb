{
 "cells": [
  {
   "cell_type": "markdown",
   "metadata": {},
   "source": [
    "### Abstract\n",
    "\n",
    "A tiny utility to copy a batch of files via SCP.\n"
   ]
  },
  {
   "cell_type": "code",
   "execution_count": 13,
   "metadata": {},
   "outputs": [],
   "source": [
    "import sys\n",
    "import glob\n",
    "import subprocess\n",
    "\n",
    "def batch_scp(source, target):\n",
    "    \n",
    "    source_file_list = glob.glob(source)\n",
    "    \n",
    "    for file in source_file_list:\n",
    "        command = ['scp', file, target]\n",
    "        print(command)\n",
    "        subprocess.call(command)\n",
    "\n",
    "\n",
    "if __name__ == \"__main__\":\n",
    "    \n",
    "    source = sys.argv[1]\n",
    "    target = sys.argv[2]\n",
    "\n",
    "    batch_scp(source, target)"
   ]
  }
 ],
 "metadata": {
  "kernelspec": {
   "display_name": "Python 3",
   "language": "python",
   "name": "python3"
  },
  "language_info": {
   "codemirror_mode": {
    "name": "ipython",
    "version": 3
   },
   "file_extension": ".py",
   "mimetype": "text/x-python",
   "name": "python",
   "nbconvert_exporter": "python",
   "pygments_lexer": "ipython3",
   "version": "3.6.2"
  }
 },
 "nbformat": 4,
 "nbformat_minor": 2
}
