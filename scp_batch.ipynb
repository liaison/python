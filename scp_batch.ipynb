{
 "cells": [
  {
   "cell_type": "markdown",
   "metadata": {},
   "source": [
    "### Abstract\n",
    "\n",
    "A tiny utility to copy a batch of files via SCP.\n"
   ]
  },
  {
   "cell_type": "code",
   "execution_count": 56,
   "metadata": {},
   "outputs": [
    {
     "name": "stdout",
     "output_type": "stream",
     "text": [
      "total_files: 0 filtered_files: 0\n"
     ]
    }
   ],
   "source": [
    "import sys\n",
    "import glob\n",
    "import subprocess\n",
    "\n",
    "def batch_scp(source, target, match_str_list):\n",
    "    \n",
    "    source_file_list = glob.glob(source)\n",
    "    filtered_file_list = []\n",
    "    \n",
    "    for file in source_file_list:\n",
    "        if (any(word in file for word in match_str_list)):\n",
    "            filtered_file_list.append(file)\n",
    "    \n",
    "    print('total_files: {0} filtered_files: {1}'.format(\n",
    "        len(source_file_list), len(filtered_file_list)))\n",
    "\n",
    "    file_num = len(filtered_file_list)\n",
    "    \n",
    "    # change the order of files, which might help with the recovery if failure\n",
    "    filtered_file_list.sort()\n",
    "    \n",
    "    for index, file in enumerate(filtered_file_list):\n",
    "        \n",
    "        command = ['scp', file, target]\n",
    "        print(\"[{0}/{1}] {2}\".format(index, file_num, \" \".join(command)))\n",
    "        subprocess.call(command)\n",
    "\n",
    "\n",
    "if __name__ == \"__main__\":\n",
    "    \n",
    "    source = sys.argv[1]\n",
    "    target = sys.argv[2]\n",
    "\n",
    "    match_str_list = ['DLH', 'AFR', 'MAS']\n",
    "    \n",
    "    batch_scp(source, target, match_str_list)"
   ]
  },
  {
   "cell_type": "code",
   "execution_count": 58,
   "metadata": {},
   "outputs": [
    {
     "name": "stdout",
     "output_type": "stream",
     "text": [
      "total_files: 33 filtered_files: 2\n",
      "[0/2] scp ./test.DLH.201802 lguo@nceinrlnx01:/tmp/\n",
      "[1/2] scp ./test.DLH.201803 lguo@nceinrlnx01:/tmp/\n"
     ]
    }
   ],
   "source": [
    "match_str_list = ['DLH']\n",
    "source_folder = \"./*\"\n",
    "#dest_folder = 'username@hostname:/tmp/'\n",
    "dest_folder = 'lguo@nceinrlnx01:/tmp/'\n",
    "\n",
    "batch_scp(source_folder, dest_folder, match_str_list)"
   ]
  }
 ],
 "metadata": {
  "kernelspec": {
   "display_name": "Python 3",
   "language": "python",
   "name": "python3"
  },
  "language_info": {
   "codemirror_mode": {
    "name": "ipython",
    "version": 3
   },
   "file_extension": ".py",
   "mimetype": "text/x-python",
   "name": "python",
   "nbconvert_exporter": "python",
   "pygments_lexer": "ipython3",
   "version": "3.6.2"
  }
 },
 "nbformat": 4,
 "nbformat_minor": 2
}
